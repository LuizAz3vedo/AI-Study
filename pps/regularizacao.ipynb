{
 "cells": [
  {
   "cell_type": "code",
   "execution_count": 3,
   "metadata": {},
   "outputs": [],
   "source": [
    "import pandas as pd\n",
    "import seaborn as sns\n",
    "import matplotlib.pyplot as plt\n",
    "from sklearn.linear_model import Lasso, LassoCV, Ridge, RidgeCV\n",
    "from sklearn.feature_selection import SelectFromModel\n",
    "from sklearn.model_selection import train_test_split\n",
    "from sklearn.metrics import mean_squared_error\n",
    "\n",
    "import numpy as np"
   ]
  },
  {
   "cell_type": "markdown",
   "metadata": {},
   "source": [
    "### Carregar e visualizar os dados - Regressão"
   ]
  },
  {
   "cell_type": "code",
   "execution_count": 4,
   "metadata": {},
   "outputs": [],
   "source": [
    "df = pd.read_csv('datasets\\colesterol.csv')"
   ]
  },
  {
   "cell_type": "code",
   "execution_count": 5,
   "metadata": {},
   "outputs": [
    {
     "name": "stdout",
     "output_type": "stream",
     "text": [
      "<class 'pandas.core.frame.DataFrame'>\n",
      "RangeIndex: 1000 entries, 0 to 999\n",
      "Data columns (total 8 columns):\n",
      " #   Column              Non-Null Count  Dtype  \n",
      "---  ------              --------------  -----  \n",
      " 0   Id                  1000 non-null   int64  \n",
      " 1   Grupo Sanguíneo     1000 non-null   object \n",
      " 2   Fumante             1000 non-null   object \n",
      " 3   Nível de Atividade  1000 non-null   object \n",
      " 4   Idade               1000 non-null   int64  \n",
      " 5   Peso                1000 non-null   float64\n",
      " 6   Altura              1000 non-null   int64  \n",
      " 7   Colesterol          1000 non-null   float64\n",
      "dtypes: float64(2), int64(3), object(3)\n",
      "memory usage: 62.6+ KB\n"
     ]
    }
   ],
   "source": [
    "df.info()"
   ]
  },
  {
   "cell_type": "code",
   "execution_count": 6,
   "metadata": {},
   "outputs": [],
   "source": [
    "df.drop('Id', axis=1, inplace=True)\n",
    "df = pd.get_dummies(df, columns=['Grupo Sanguíneo', 'Fumante', 'Nível de Atividade'])"
   ]
  },
  {
   "cell_type": "code",
   "execution_count": 7,
   "metadata": {},
   "outputs": [
    {
     "data": {
      "text/html": [
       "<div>\n",
       "<style scoped>\n",
       "    .dataframe tbody tr th:only-of-type {\n",
       "        vertical-align: middle;\n",
       "    }\n",
       "\n",
       "    .dataframe tbody tr th {\n",
       "        vertical-align: top;\n",
       "    }\n",
       "\n",
       "    .dataframe thead th {\n",
       "        text-align: right;\n",
       "    }\n",
       "</style>\n",
       "<table border=\"1\" class=\"dataframe\">\n",
       "  <thead>\n",
       "    <tr style=\"text-align: right;\">\n",
       "      <th></th>\n",
       "      <th>Idade</th>\n",
       "      <th>Peso</th>\n",
       "      <th>Altura</th>\n",
       "      <th>Colesterol</th>\n",
       "      <th>Grupo Sanguíneo_A</th>\n",
       "      <th>Grupo Sanguíneo_AB</th>\n",
       "      <th>Grupo Sanguíneo_B</th>\n",
       "      <th>Grupo Sanguíneo_O</th>\n",
       "      <th>Fumante_Não</th>\n",
       "      <th>Fumante_Sim</th>\n",
       "      <th>Nível de Atividade_Alto</th>\n",
       "      <th>Nível de Atividade_Baixo</th>\n",
       "      <th>Nível de Atividade_Moderado</th>\n",
       "    </tr>\n",
       "  </thead>\n",
       "  <tbody>\n",
       "    <tr>\n",
       "      <th>0</th>\n",
       "      <td>33</td>\n",
       "      <td>85.1</td>\n",
       "      <td>186</td>\n",
       "      <td>199.63</td>\n",
       "      <td>0</td>\n",
       "      <td>0</td>\n",
       "      <td>1</td>\n",
       "      <td>0</td>\n",
       "      <td>0</td>\n",
       "      <td>1</td>\n",
       "      <td>0</td>\n",
       "      <td>1</td>\n",
       "      <td>0</td>\n",
       "    </tr>\n",
       "    <tr>\n",
       "      <th>1</th>\n",
       "      <td>68</td>\n",
       "      <td>105.0</td>\n",
       "      <td>184</td>\n",
       "      <td>236.98</td>\n",
       "      <td>1</td>\n",
       "      <td>0</td>\n",
       "      <td>0</td>\n",
       "      <td>0</td>\n",
       "      <td>1</td>\n",
       "      <td>0</td>\n",
       "      <td>0</td>\n",
       "      <td>0</td>\n",
       "      <td>1</td>\n",
       "    </tr>\n",
       "    <tr>\n",
       "      <th>2</th>\n",
       "      <td>25</td>\n",
       "      <td>64.8</td>\n",
       "      <td>180</td>\n",
       "      <td>161.79</td>\n",
       "      <td>0</td>\n",
       "      <td>0</td>\n",
       "      <td>0</td>\n",
       "      <td>1</td>\n",
       "      <td>1</td>\n",
       "      <td>0</td>\n",
       "      <td>1</td>\n",
       "      <td>0</td>\n",
       "      <td>0</td>\n",
       "    </tr>\n",
       "    <tr>\n",
       "      <th>3</th>\n",
       "      <td>43</td>\n",
       "      <td>120.2</td>\n",
       "      <td>167</td>\n",
       "      <td>336.24</td>\n",
       "      <td>1</td>\n",
       "      <td>0</td>\n",
       "      <td>0</td>\n",
       "      <td>0</td>\n",
       "      <td>1</td>\n",
       "      <td>0</td>\n",
       "      <td>1</td>\n",
       "      <td>0</td>\n",
       "      <td>0</td>\n",
       "    </tr>\n",
       "    <tr>\n",
       "      <th>4</th>\n",
       "      <td>79</td>\n",
       "      <td>88.5</td>\n",
       "      <td>175</td>\n",
       "      <td>226.23</td>\n",
       "      <td>0</td>\n",
       "      <td>1</td>\n",
       "      <td>0</td>\n",
       "      <td>0</td>\n",
       "      <td>1</td>\n",
       "      <td>0</td>\n",
       "      <td>0</td>\n",
       "      <td>1</td>\n",
       "      <td>0</td>\n",
       "    </tr>\n",
       "    <tr>\n",
       "      <th>...</th>\n",
       "      <td>...</td>\n",
       "      <td>...</td>\n",
       "      <td>...</td>\n",
       "      <td>...</td>\n",
       "      <td>...</td>\n",
       "      <td>...</td>\n",
       "      <td>...</td>\n",
       "      <td>...</td>\n",
       "      <td>...</td>\n",
       "      <td>...</td>\n",
       "      <td>...</td>\n",
       "      <td>...</td>\n",
       "      <td>...</td>\n",
       "    </tr>\n",
       "    <tr>\n",
       "      <th>995</th>\n",
       "      <td>31</td>\n",
       "      <td>68.1</td>\n",
       "      <td>166</td>\n",
       "      <td>206.81</td>\n",
       "      <td>0</td>\n",
       "      <td>1</td>\n",
       "      <td>0</td>\n",
       "      <td>0</td>\n",
       "      <td>0</td>\n",
       "      <td>1</td>\n",
       "      <td>0</td>\n",
       "      <td>0</td>\n",
       "      <td>1</td>\n",
       "    </tr>\n",
       "    <tr>\n",
       "      <th>996</th>\n",
       "      <td>51</td>\n",
       "      <td>47.7</td>\n",
       "      <td>170</td>\n",
       "      <td>128.03</td>\n",
       "      <td>0</td>\n",
       "      <td>0</td>\n",
       "      <td>0</td>\n",
       "      <td>1</td>\n",
       "      <td>1</td>\n",
       "      <td>0</td>\n",
       "      <td>1</td>\n",
       "      <td>0</td>\n",
       "      <td>0</td>\n",
       "    </tr>\n",
       "    <tr>\n",
       "      <th>997</th>\n",
       "      <td>39</td>\n",
       "      <td>85.5</td>\n",
       "      <td>176</td>\n",
       "      <td>211.14</td>\n",
       "      <td>0</td>\n",
       "      <td>1</td>\n",
       "      <td>0</td>\n",
       "      <td>0</td>\n",
       "      <td>1</td>\n",
       "      <td>0</td>\n",
       "      <td>0</td>\n",
       "      <td>1</td>\n",
       "      <td>0</td>\n",
       "    </tr>\n",
       "    <tr>\n",
       "      <th>998</th>\n",
       "      <td>61</td>\n",
       "      <td>91.2</td>\n",
       "      <td>161</td>\n",
       "      <td>284.53</td>\n",
       "      <td>0</td>\n",
       "      <td>1</td>\n",
       "      <td>0</td>\n",
       "      <td>0</td>\n",
       "      <td>0</td>\n",
       "      <td>1</td>\n",
       "      <td>0</td>\n",
       "      <td>1</td>\n",
       "      <td>0</td>\n",
       "    </tr>\n",
       "    <tr>\n",
       "      <th>999</th>\n",
       "      <td>45</td>\n",
       "      <td>82.4</td>\n",
       "      <td>163</td>\n",
       "      <td>237.45</td>\n",
       "      <td>1</td>\n",
       "      <td>0</td>\n",
       "      <td>0</td>\n",
       "      <td>0</td>\n",
       "      <td>1</td>\n",
       "      <td>0</td>\n",
       "      <td>0</td>\n",
       "      <td>1</td>\n",
       "      <td>0</td>\n",
       "    </tr>\n",
       "  </tbody>\n",
       "</table>\n",
       "<p>1000 rows × 13 columns</p>\n",
       "</div>"
      ],
      "text/plain": [
       "     Idade   Peso  Altura  Colesterol  Grupo Sanguíneo_A  Grupo Sanguíneo_AB  \\\n",
       "0       33   85.1     186      199.63                  0                   0   \n",
       "1       68  105.0     184      236.98                  1                   0   \n",
       "2       25   64.8     180      161.79                  0                   0   \n",
       "3       43  120.2     167      336.24                  1                   0   \n",
       "4       79   88.5     175      226.23                  0                   1   \n",
       "..     ...    ...     ...         ...                ...                 ...   \n",
       "995     31   68.1     166      206.81                  0                   1   \n",
       "996     51   47.7     170      128.03                  0                   0   \n",
       "997     39   85.5     176      211.14                  0                   1   \n",
       "998     61   91.2     161      284.53                  0                   1   \n",
       "999     45   82.4     163      237.45                  1                   0   \n",
       "\n",
       "     Grupo Sanguíneo_B  Grupo Sanguíneo_O  Fumante_Não  Fumante_Sim  \\\n",
       "0                    1                  0            0            1   \n",
       "1                    0                  0            1            0   \n",
       "2                    0                  1            1            0   \n",
       "3                    0                  0            1            0   \n",
       "4                    0                  0            1            0   \n",
       "..                 ...                ...          ...          ...   \n",
       "995                  0                  0            0            1   \n",
       "996                  0                  1            1            0   \n",
       "997                  0                  0            1            0   \n",
       "998                  0                  0            0            1   \n",
       "999                  0                  0            1            0   \n",
       "\n",
       "     Nível de Atividade_Alto  Nível de Atividade_Baixo  \\\n",
       "0                          0                         1   \n",
       "1                          0                         0   \n",
       "2                          1                         0   \n",
       "3                          1                         0   \n",
       "4                          0                         1   \n",
       "..                       ...                       ...   \n",
       "995                        0                         0   \n",
       "996                        1                         0   \n",
       "997                        0                         1   \n",
       "998                        0                         1   \n",
       "999                        0                         1   \n",
       "\n",
       "     Nível de Atividade_Moderado  \n",
       "0                              0  \n",
       "1                              1  \n",
       "2                              0  \n",
       "3                              0  \n",
       "4                              0  \n",
       "..                           ...  \n",
       "995                            1  \n",
       "996                            0  \n",
       "997                            0  \n",
       "998                            0  \n",
       "999                            0  \n",
       "\n",
       "[1000 rows x 13 columns]"
      ]
     },
     "execution_count": 7,
     "metadata": {},
     "output_type": "execute_result"
    }
   ],
   "source": [
    "df"
   ]
  },
  {
   "cell_type": "markdown",
   "metadata": {},
   "source": [
    "## Treinar modelo de regressão com Lasso (L1)"
   ]
  },
  {
   "cell_type": "code",
   "execution_count": 8,
   "metadata": {},
   "outputs": [],
   "source": [
    "X = df.drop('Colesterol', axis=1)\n",
    "y = df['Colesterol']"
   ]
  },
  {
   "cell_type": "code",
   "execution_count": 9,
   "metadata": {},
   "outputs": [],
   "source": [
    "X_train, X_test, y_train, y_test = train_test_split(X, y, test_size=0.3, random_state=51)"
   ]
  },
  {
   "cell_type": "code",
   "execution_count": 13,
   "metadata": {},
   "outputs": [
    {
     "data": {
      "text/plain": [
       "Lasso(alpha=0.1)"
      ]
     },
     "execution_count": 13,
     "metadata": {},
     "output_type": "execute_result"
    }
   ],
   "source": [
    "model_lasso = Lasso(alpha=0.1)\n",
    "model_lasso.fit(X_train, y_train)"
   ]
  },
  {
   "cell_type": "code",
   "execution_count": 14,
   "metadata": {},
   "outputs": [],
   "source": [
    "def importancia_features(modelo):\n",
    "    importance = np.abs(modelo.coef_)\n",
    "    print(\"Importância das features:\")\n",
    "    for i, feature in enumerate(modelo.feature_names_in_):\n",
    "        print(f'{feature}: {importance[i]}')   "
   ]
  },
  {
   "cell_type": "code",
   "execution_count": 15,
   "metadata": {},
   "outputs": [
    {
     "name": "stdout",
     "output_type": "stream",
     "text": [
      "Importância das features:\n",
      "Idade: 0.02398570771151734\n",
      "Peso: 2.4765870268702703\n",
      "Altura: 2.201760869534116\n",
      "Grupo Sanguíneo_A: 0.12855801865958197\n",
      "Grupo Sanguíneo_AB: 0.9304059600403655\n",
      "Grupo Sanguíneo_B: 0.7553786901176697\n",
      "Grupo Sanguíneo_O: 0.028399819408446724\n",
      "Fumante_Não: 2.050478434153999\n",
      "Fumante_Sim: 1.94530811212543e-15\n",
      "Nível de Atividade_Alto: 2.06799188359658\n",
      "Nível de Atividade_Baixo: 0.0\n",
      "Nível de Atividade_Moderado: 0.0\n"
     ]
    }
   ],
   "source": [
    "# importância das features - Lasso\n",
    "importancia_features(model_lasso)"
   ]
  },
  {
   "cell_type": "code",
   "execution_count": 16,
   "metadata": {},
   "outputs": [],
   "source": [
    "def performance_regressao(modelo, X_test, y_test):\n",
    "\n",
    "    y_pred = modelo.predict(X_test)\n",
    "    \n",
    "    return mean_squared_error(y_test, y_pred, squared=False)"
   ]
  },
  {
   "cell_type": "code",
   "execution_count": 17,
   "metadata": {},
   "outputs": [
    {
     "data": {
      "text/plain": [
       "9.062015729572144"
      ]
     },
     "execution_count": 17,
     "metadata": {},
     "output_type": "execute_result"
    }
   ],
   "source": [
    "# Performance do modelo Lasso\n",
    "performance_regressao(model_lasso, X_test, y_test)"
   ]
  },
  {
   "cell_type": "code",
   "execution_count": 18,
   "metadata": {},
   "outputs": [
    {
     "data": {
      "text/plain": [
       "LassoCV(alphas=[0.1, 0.5, 1], cv=5, random_state=51)"
      ]
     },
     "execution_count": 18,
     "metadata": {},
     "output_type": "execute_result"
    }
   ],
   "source": [
    "# Treinar com o LassoCV\n",
    "model_lasso_cv = LassoCV(alphas=[0.1, 0.5, 1], cv=5, random_state=51)\n",
    "model_lasso_cv.fit(X_train, y_train)"
   ]
  },
  {
   "cell_type": "code",
   "execution_count": 19,
   "metadata": {},
   "outputs": [
    {
     "name": "stdout",
     "output_type": "stream",
     "text": [
      "Importância das features:\n",
      "Idade: 0.02398570771151734\n",
      "Peso: 2.4765870268702703\n",
      "Altura: 2.201760869534116\n",
      "Grupo Sanguíneo_A: 0.12855801865958197\n",
      "Grupo Sanguíneo_AB: 0.9304059600403655\n",
      "Grupo Sanguíneo_B: 0.7553786901176697\n",
      "Grupo Sanguíneo_O: 0.028399819408446724\n",
      "Fumante_Não: 2.050478434153999\n",
      "Fumante_Sim: 1.94530811212543e-15\n",
      "Nível de Atividade_Alto: 2.06799188359658\n",
      "Nível de Atividade_Baixo: 0.0\n",
      "Nível de Atividade_Moderado: 0.0\n"
     ]
    }
   ],
   "source": [
    "importancia_features(model_lasso_cv)"
   ]
  },
  {
   "cell_type": "code",
   "execution_count": 20,
   "metadata": {},
   "outputs": [
    {
     "data": {
      "text/plain": [
       "9.062015729572144"
      ]
     },
     "execution_count": 20,
     "metadata": {},
     "output_type": "execute_result"
    }
   ],
   "source": [
    "performance_regressao(model_lasso_cv, X_test, y_test)"
   ]
  },
  {
   "cell_type": "markdown",
   "metadata": {},
   "source": [
    "## Treinar modelo de regressão com Ridge (L2)"
   ]
  },
  {
   "cell_type": "code",
   "execution_count": 33,
   "metadata": {},
   "outputs": [
    {
     "data": {
      "text/plain": [
       "Ridge(alpha=0.1)"
      ]
     },
     "execution_count": 33,
     "metadata": {},
     "output_type": "execute_result"
    }
   ],
   "source": [
    "model_ridge = Ridge(alpha=0.1)\n",
    "model_ridge.fit(X_train, y_train)"
   ]
  },
  {
   "cell_type": "code",
   "execution_count": 34,
   "metadata": {},
   "outputs": [
    {
     "name": "stdout",
     "output_type": "stream",
     "text": [
      "Importância das features:\n",
      "Idade: 0.021562168148991458\n",
      "Peso: 2.471277505688153\n",
      "Altura: 2.198539914775216\n",
      "Grupo Sanguíneo_A: 0.4425635910360846\n",
      "Grupo Sanguíneo_AB: 1.3732758402349843\n",
      "Grupo Sanguíneo_B: 1.3917552520269678\n",
      "Grupo Sanguíneo_O: 0.4610430028161653\n",
      "Fumante_Não: 1.2773055155977948\n",
      "Fumante_Sim: 1.2773055155989128\n",
      "Nível de Atividade_Alto: 1.7459863005674745\n",
      "Nível de Atividade_Baixo: 0.7760548936045902\n",
      "Nível de Atividade_Moderado: 0.9699314069799915\n"
     ]
    }
   ],
   "source": [
    "# importância das features - Lasso\n",
    "importancia_features(model_ridge)"
   ]
  },
  {
   "cell_type": "code",
   "execution_count": 35,
   "metadata": {},
   "outputs": [
    {
     "data": {
      "text/plain": [
       "9.121486825982178"
      ]
     },
     "execution_count": 35,
     "metadata": {},
     "output_type": "execute_result"
    }
   ],
   "source": [
    "# Performance do modelo ridge\n",
    "performance_regressao(model_ridge, X_test, y_test)"
   ]
  },
  {
   "cell_type": "code",
   "execution_count": 36,
   "metadata": {},
   "outputs": [
    {
     "data": {
      "text/plain": [
       "RidgeCV(alphas=array([0.1, 0.5, 1. ]), cv=5)"
      ]
     },
     "execution_count": 36,
     "metadata": {},
     "output_type": "execute_result"
    }
   ],
   "source": [
    "# Treinar com o LassoCV\n",
    "model_lasso_cv = RidgeCV(alphas=[0.1, 0.5, 1], cv=5)\n",
    "model_lasso_cv.fit(X_train, y_train)"
   ]
  },
  {
   "cell_type": "code",
   "execution_count": 37,
   "metadata": {},
   "outputs": [
    {
     "name": "stdout",
     "output_type": "stream",
     "text": [
      "Importância das features:\n",
      "Idade: 0.02160242663673348\n",
      "Peso: 2.4714395283499218\n",
      "Altura: 2.19865426946907\n",
      "Grupo Sanguíneo_A: 0.44196245948982715\n",
      "Grupo Sanguíneo_AB: 1.3651312116461942\n",
      "Grupo Sanguíneo_B: 1.3804905139799588\n",
      "Grupo Sanguíneo_O: 0.4573217618213688\n",
      "Fumante_Não: 1.2731125149106501\n",
      "Fumante_Sim: 1.2731125149111377\n",
      "Nível de Atividade_Alto: 1.7380726278216525\n",
      "Nível de Atividade_Baixo: 0.7731441696098863\n",
      "Nível de Atividade_Moderado: 0.9649284582135844\n"
     ]
    }
   ],
   "source": [
    "importancia_features(model_lasso_cv)"
   ]
  },
  {
   "cell_type": "code",
   "execution_count": 38,
   "metadata": {},
   "outputs": [
    {
     "data": {
      "text/plain": [
       "9.12035069835535"
      ]
     },
     "execution_count": 38,
     "metadata": {},
     "output_type": "execute_result"
    }
   ],
   "source": [
    "performance_regressao(model_lasso_cv, X_test, y_test)"
   ]
  },
  {
   "cell_type": "code",
   "execution_count": null,
   "metadata": {},
   "outputs": [],
   "source": [
    "#"
   ]
  }
 ],
 "metadata": {
  "kernelspec": {
   "display_name": "base",
   "language": "python",
   "name": "python3"
  },
  "language_info": {
   "codemirror_mode": {
    "name": "ipython",
    "version": 3
   },
   "file_extension": ".py",
   "mimetype": "text/x-python",
   "name": "python",
   "nbconvert_exporter": "python",
   "pygments_lexer": "ipython3",
   "version": "3.9.13"
  }
 },
 "nbformat": 4,
 "nbformat_minor": 2
}
